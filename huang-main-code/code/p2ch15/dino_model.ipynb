{
 "cells": [
  {
   "cell_type": "code",
   "execution_count": 1,
   "metadata": {},
   "outputs": [
    {
     "data": {
      "application/vnd.jupyter.widget-view+json": {
       "model_id": "de3fd2befe2c4b7ba03dbb6bccfcc55d",
       "version_major": 2,
       "version_minor": 0
      },
      "text/plain": [
       "preprocessor_config.json:   0%|          | 0.00/436 [00:00<?, ?B/s]"
      ]
     },
     "metadata": {},
     "output_type": "display_data"
    },
    {
     "data": {
      "application/vnd.jupyter.widget-view+json": {
       "model_id": "538f131cecb94dd385db9cdf28e472e4",
       "version_major": 2,
       "version_minor": 0
      },
      "text/plain": [
       "config.json:   0%|          | 0.00/548 [00:00<?, ?B/s]"
      ]
     },
     "metadata": {},
     "output_type": "display_data"
    },
    {
     "data": {
      "application/vnd.jupyter.widget-view+json": {
       "model_id": "c32e84d0098e4d8697993dc4cf53a3a7",
       "version_major": 2,
       "version_minor": 0
      },
      "text/plain": [
       "model.safetensors:   0%|          | 0.00/346M [00:00<?, ?B/s]"
      ]
     },
     "metadata": {},
     "output_type": "display_data"
    },
    {
     "name": "stderr",
     "output_type": "stream",
     "text": [
      "c:\\Users\\howardhuang\\MyCode\\DeepLearningWithPytorch-SecondEdition\\.venv\\lib\\site-packages\\transformers\\modeling_utils.py:4713: FutureWarning: `_is_quantized_training_enabled` is going to be deprecated in transformers 4.39.0. Please use `model.hf_quantizer.is_trainable` instead\n",
      "  warnings.warn(\n",
      "c:\\Users\\howardhuang\\MyCode\\DeepLearningWithPytorch-SecondEdition\\.venv\\lib\\site-packages\\transformers\\models\\dinov2\\modeling_dinov2.py:157: TracerWarning: Converting a tensor to a Python boolean might cause the trace to be incorrect. We can't record the data flow of Python values, so this value will be treated as a constant in the future. This means that the trace might not generalize to other inputs!\n",
      "  if num_channels != self.num_channels:\n",
      "c:\\Users\\howardhuang\\MyCode\\DeepLearningWithPytorch-SecondEdition\\.venv\\lib\\site-packages\\transformers\\models\\dinov2\\modeling_dinov2.py:87: TracerWarning: Converting a tensor to a Python boolean might cause the trace to be incorrect. We can't record the data flow of Python values, so this value will be treated as a constant in the future. This means that the trace might not generalize to other inputs!\n",
      "  if num_patches == num_positions and height == width:\n",
      "c:\\Users\\howardhuang\\MyCode\\DeepLearningWithPytorch-SecondEdition\\.venv\\lib\\site-packages\\transformers\\models\\dinov2\\modeling_dinov2.py:97: TracerWarning: Converting a tensor to a Python float might cause the trace to be incorrect. We can't record the data flow of Python values, so this value will be treated as a constant in the future. This means that the trace might not generalize to other inputs!\n",
      "  patch_pos_embed = patch_pos_embed.reshape(1, int(math.sqrt(num_positions)), int(math.sqrt(num_positions)), dim)\n",
      "c:\\Users\\howardhuang\\MyCode\\DeepLearningWithPytorch-SecondEdition\\.venv\\lib\\site-packages\\transformers\\models\\dinov2\\modeling_dinov2.py:102: TracerWarning: Converting a tensor to a Python float might cause the trace to be incorrect. We can't record the data flow of Python values, so this value will be treated as a constant in the future. This means that the trace might not generalize to other inputs!\n",
      "  scale_factor=(float(height / math.sqrt(num_positions)), float(width / math.sqrt(num_positions))),\n",
      "c:\\Users\\howardhuang\\MyCode\\DeepLearningWithPytorch-SecondEdition\\.venv\\lib\\site-packages\\transformers\\models\\dinov2\\modeling_dinov2.py:106: TracerWarning: Converting a tensor to a Python integer might cause the trace to be incorrect. We can't record the data flow of Python values, so this value will be treated as a constant in the future. This means that the trace might not generalize to other inputs!\n",
      "  if int(height) != patch_pos_embed.shape[-2] or int(width) != patch_pos_embed.shape[-1]:\n",
      "c:\\Users\\howardhuang\\MyCode\\DeepLearningWithPytorch-SecondEdition\\.venv\\lib\\site-packages\\transformers\\models\\dinov2\\modeling_dinov2.py:106: TracerWarning: Converting a tensor to a Python boolean might cause the trace to be incorrect. We can't record the data flow of Python values, so this value will be treated as a constant in the future. This means that the trace might not generalize to other inputs!\n",
      "  if int(height) != patch_pos_embed.shape[-2] or int(width) != patch_pos_embed.shape[-1]:\n",
      "c:\\Users\\howardhuang\\MyCode\\DeepLearningWithPytorch-SecondEdition\\.venv\\lib\\site-packages\\torch\\jit\\_trace.py:1303: TracerWarning: Output nr 1. of the traced function does not match the corresponding output of the Python function. Detailed error:\n",
      "Tensor-likes are not close!\n",
      "\n",
      "Mismatched elements: 470 / 197376 (0.2%)\n",
      "Greatest absolute difference: 6.914138793945312e-05 at index (0, 46, 415) (up to 1e-05 allowed)\n",
      "Greatest relative difference: 0.08912212043049009 at index (0, 17, 382) (up to 1e-05 allowed)\n",
      "  _check_trace(\n"
     ]
    },
    {
     "name": "stdout",
     "output_type": "stream",
     "text": [
      "tensor(0.0001, grad_fn=<MaxBackward1>)\n"
     ]
    }
   ],
   "source": [
    "import torch\n",
    "from transformers import AutoImageProcessor, AutoModel\n",
    "from PIL import Image\n",
    "import requests\n",
    "\n",
    "url = 'http://images.cocodataset.org/val2017/000000039769.jpg'\n",
    "image = Image.open(requests.get(url, stream=True).raw)\n",
    "\n",
    "processor = AutoImageProcessor.from_pretrained('facebook/dinov2-base')\n",
    "model = AutoModel.from_pretrained('facebook/dinov2-base')\n",
    "\n",
    "inputs = processor(images=image, return_tensors=\"pt\")\n",
    "outputs = model(**inputs)\n",
    "last_hidden_states = outputs[0]\n",
    "\n",
    "# We have to force return_dict=False for tracing\n",
    "model.config.return_dict = False\n",
    "\n",
    "with torch.no_grad():\n",
    "    traced_model = torch.jit.trace(model, [inputs.pixel_values])\n",
    "    traced_outputs = traced_model(inputs.pixel_values)\n",
    "\n",
    "print((last_hidden_states - traced_outputs[0]).abs().max())"
   ]
  },
  {
   "cell_type": "code",
   "execution_count": 2,
   "metadata": {},
   "outputs": [
    {
     "data": {
      "text/plain": [
       "(tensor([[[-2.1747, -0.4729,  1.0936,  ...,  0.2041,  1.1101,  0.1363],\n",
       "          [-3.2780, -0.8269, -0.9210,  ...,  1.4415, -0.5364, -0.8757],\n",
       "          [-2.9129,  1.1284, -0.7306,  ...,  0.6959, -1.8791, -2.3638],\n",
       "          ...,\n",
       "          [-0.5463,  1.4382, -0.2564,  ...,  0.1874, -2.9950,  0.4068],\n",
       "          [-3.0848,  2.0568,  1.5137,  ...,  0.9157, -2.7059,  2.2017],\n",
       "          [-0.7499,  0.0902,  1.3731,  ..., -0.2961, -2.3682, -0.1329]]]),\n",
       " tensor([[-2.1747, -0.4729,  1.0936, -1.3388, -0.0383,  0.7705, -0.0506,  1.5807,\n",
       "          -1.9523,  2.4341, -0.4485, -1.2941,  1.1106,  1.4170, -0.9333, -1.6738,\n",
       "           2.4115,  0.0537, -0.1074,  1.9253,  0.3722, -1.2624, -2.8963,  2.3195,\n",
       "           0.4634, -1.3537, -0.7712,  0.4927, -1.5106,  0.5196, -0.1317, -2.1221,\n",
       "          -1.8972, -2.5182,  1.6921,  0.6115, -0.5884, -1.5773,  0.3504,  0.2483,\n",
       "          -1.6131,  4.2096, -0.8291, -0.1961,  1.6823,  2.1918,  0.1824,  0.9752,\n",
       "          -1.8447, -1.1674, -2.1217, -1.4184,  0.4311, -0.0446, -0.6478,  1.1718,\n",
       "           0.4376,  0.4802,  0.2776, -0.7963,  1.2747, -0.4032,  1.2344,  0.0763,\n",
       "          -1.0132, -0.9717, -0.5406,  1.3379,  2.0284,  0.2116, -0.9928, -2.1727,\n",
       "           1.3519, -2.3480,  0.2529,  1.2707, -1.0443, -0.2551,  0.6772,  0.2890,\n",
       "           2.7415, -1.7646, -1.3133,  1.8540, -0.0149,  1.1971,  1.0766, -2.7391,\n",
       "          -2.8889, -0.1116,  1.3597,  0.1346, -1.3550, -0.6051,  0.8823, -1.1183,\n",
       "           2.5312, -0.3162, -0.3613,  2.1462, -1.8011, -0.1104, -0.5573, -0.8721,\n",
       "          -1.1960,  1.9530, -1.1549, -0.7443, -1.2656,  1.7965, -4.5535,  2.7909,\n",
       "           1.1638,  0.4348, -0.3872, -2.3047,  2.9898, -0.0305, -0.0307, -2.3749,\n",
       "           1.5288,  1.3856, -0.0468, -0.5746,  0.6672,  1.9530, -2.9530, -1.6185,\n",
       "          -0.3406,  0.3820,  0.4753, -2.2013,  1.2644,  1.3525,  2.4273,  1.3726,\n",
       "          -1.3552, -0.4782,  1.1941,  0.8500, -2.3997, -2.8844,  1.8216, -0.6118,\n",
       "          -1.8216, -1.6875,  0.4902, -2.3970,  1.0092,  1.4961,  3.5598,  1.8522,\n",
       "           1.0043, -1.2483,  0.7071,  2.2616,  2.6634,  1.2233,  0.3177,  1.5360,\n",
       "           0.0271, -1.5384, -2.4228,  0.9970,  2.8015, -1.1951,  1.5427, -1.3342,\n",
       "           3.5983,  1.4515,  1.4338, -1.6832,  0.8624,  0.9589,  0.6773,  1.7080,\n",
       "           3.6920, -2.3479, -3.6861, -2.2515, -1.4932, -1.7944,  2.3307, -0.2265,\n",
       "          -0.3485, -0.0178, -0.7115, -0.0581, -3.6612,  1.8759,  0.3116,  0.3894,\n",
       "           0.8083, -1.3168,  0.2988, -1.6558, -2.6980, -1.3296,  0.8541,  1.5380,\n",
       "          -2.4812, -1.5591,  3.2717, -1.6616, -4.9533, -0.9873,  1.4446, -2.4844,\n",
       "          -0.9795,  0.3848, -0.2661, -2.6751,  1.1940, -0.0650, -1.7666, -1.1738,\n",
       "          -1.0711,  0.9830, -2.0181,  1.4114,  0.6744, -1.6194,  4.0231,  0.1875,\n",
       "           1.5806, -0.3874,  3.2149, -0.6918,  1.1554,  2.4371, -1.8701,  3.7124,\n",
       "          -1.1568, -0.3956,  1.7250,  4.1847,  0.2961, -0.4697,  1.2258, -2.8918,\n",
       "          -1.2613,  0.8010, -1.5594,  3.2323, -1.3182,  1.6750,  0.4070,  2.1675,\n",
       "           2.4417, -2.1030, -0.7522,  0.2191, -4.7635,  2.1386,  1.0476, -0.1283,\n",
       "           2.2122,  1.2401, -0.0631,  0.3618, -1.4685,  1.1902,  1.5959, -3.0958,\n",
       "          -0.6785, -0.3930,  0.8896, -0.4502,  1.0934,  1.9815,  2.8643,  1.8480,\n",
       "          -0.1405, -1.2276,  4.3401, -0.7366, -3.2514,  1.0081,  1.4829, -1.1370,\n",
       "           0.0821, -1.6053, -0.4892, -2.2148, -3.0838, -0.6271,  1.1415, -0.6361,\n",
       "          -0.4735,  2.6602, -1.3558,  1.7916,  0.1249,  0.5051, -2.9551, -0.9401,\n",
       "          -1.4474, -1.9001,  1.5296, -0.9564, -0.8347,  0.7209,  2.3430, -2.3610,\n",
       "          -1.2188, -0.8529, -0.7604, -0.4168, -1.1224, -1.2599,  0.7809,  2.3355,\n",
       "           0.1077,  2.0178, -3.1260, -0.4196,  2.8950, -1.5308, -2.8743,  0.9700,\n",
       "           0.3527, -1.9592, -1.5177, -2.2339,  0.5401, -2.6811,  0.9546,  0.7308,\n",
       "          -0.8707,  5.1122, -0.2164,  1.5373, -0.2478,  2.7931,  1.5184,  0.2034,\n",
       "           0.3179,  2.5820, -0.1798, -1.8070, -0.6782, -1.9421,  0.4594,  3.6766,\n",
       "          -2.7129, -1.6094, -0.4286,  3.6886, -1.2488, -1.6813, -1.4357,  3.4462,\n",
       "          -2.8623, -1.0112,  0.3448,  1.6571, -2.1834,  0.2554, -1.6367,  0.8136,\n",
       "          -1.8891,  0.3945, -2.3131, -0.5949,  0.4210, -1.3413,  0.9604,  0.4162,\n",
       "           2.9666,  0.3613, -2.0698,  1.0020, -0.3356,  1.1682, -1.4673, -0.8282,\n",
       "          -0.4462,  0.7189,  0.0462, -1.0648,  0.0322,  0.4226,  1.5682,  3.2068,\n",
       "          -2.2263, -1.9717,  0.1517, -2.1469,  0.1001, -1.8969, -1.5044,  1.5855,\n",
       "           2.3049, -2.5996, -1.0408,  2.2048, -3.6942, -1.5513, -1.6837,  1.2901,\n",
       "          -0.3421, -5.1607,  1.2550,  3.0605,  0.8615,  1.2348, -0.4479, -0.7110,\n",
       "           1.2467, -1.1047, -1.2251, -0.1867,  1.7094,  0.7654, -1.1896,  0.1120,\n",
       "          -3.1069,  0.3433, -0.1684,  2.3396,  2.4384,  1.5999, -0.7752,  4.0089,\n",
       "           1.1737, -0.5912,  1.8717,  0.7158,  1.3890, -1.2390,  0.7052,  0.3907,\n",
       "           1.2568,  1.2987, -2.6256, -0.9317, -2.7915, -0.7688,  2.5926, -1.8652,\n",
       "          -0.8870,  5.4494, -0.2045, -0.2270, -0.1846, -2.2289,  3.7244,  0.3417,\n",
       "           1.5081, -1.6140,  1.2420, -0.0988,  1.3991,  0.2253,  1.1354,  1.3675,\n",
       "           1.4310,  0.2866, -0.7232,  3.2222,  0.8910, -1.8813,  0.8710,  0.4598,\n",
       "           1.5140,  2.9942,  2.1007, -1.5220,  3.2550,  0.2191,  1.9138,  0.5452,\n",
       "          -0.2082, -0.6097, -0.7154, -0.0515,  0.7531, -1.8429,  0.0493,  0.4320,\n",
       "          -0.6052, -1.3449, -2.3294, -0.4788, -1.5699, -0.8474, -0.2769, -0.9045,\n",
       "           2.2910, -1.7549,  1.3956,  2.5970, -4.1374,  0.4087,  2.1360,  0.5027,\n",
       "           0.1172,  2.5926, -0.3968,  0.3510,  0.1633, -0.4501,  1.5957,  0.1918,\n",
       "          -2.8257, -1.0353,  0.8631,  2.2864,  0.7214,  0.4824, -0.2097, -1.0484,\n",
       "           1.6969, -1.2317,  1.9763,  1.3504, -1.5652,  0.8650, -0.5574, -2.5648,\n",
       "          -2.8043,  0.0612,  1.4067,  2.1250,  1.8138, -0.0177, -0.7669,  0.5197,\n",
       "          -0.8978, -1.1169,  2.9483,  0.4809, -0.3572, -1.8150, -0.1995, -0.9301,\n",
       "           3.7752,  0.6021,  1.6514, -0.6342, -2.6603,  0.4159,  0.2352,  1.0224,\n",
       "           1.2586,  0.1095,  0.7665, -3.7248,  2.4061, -0.9863, -0.4730,  0.3523,\n",
       "           0.2229,  0.2189,  1.1266,  2.5227, -0.7653, -1.7971,  0.3211,  0.5190,\n",
       "          -2.8361, -0.5243,  0.4131,  0.7290, -2.1367, -1.8424, -0.7595, -4.3524,\n",
       "           0.3068,  0.2800,  0.7303,  0.8219, -1.3942,  2.8129,  1.2135,  2.0143,\n",
       "          -0.3138, -0.4390,  1.1659, -0.7866,  1.8764,  1.4999, -5.9722, -0.8285,\n",
       "           2.3143, -1.6279, -1.6372,  2.6441, -0.1773, -1.3331,  1.3000, -0.7969,\n",
       "          -0.8678,  1.2085,  1.9376, -0.3708,  0.9655,  0.0567,  0.2544, -0.2816,\n",
       "          -1.0825,  1.1887, -0.0075, -1.1910,  1.2822,  0.7848, -2.5707,  0.4949,\n",
       "          -0.8889, -0.5226,  1.4220,  0.5273, -0.1457,  1.4723, -1.3693,  2.7892,\n",
       "           1.3050, -1.6903, -2.9038,  2.0194, -0.3675,  3.1814, -1.4310, -0.2751,\n",
       "           0.0980,  0.2877,  0.8005, -1.6452, -1.2265,  2.7015,  0.2096,  0.1332,\n",
       "           0.9524,  0.3506,  0.7891,  1.4091,  0.8994, -0.9525,  0.5182, -0.2960,\n",
       "           1.9482,  0.2277, -0.9030, -1.2626,  1.5692, -1.4343, -4.1795, -0.2620,\n",
       "           2.1618,  0.9204,  1.5038,  1.0884, -0.1254,  2.1371,  0.9385, -3.5128,\n",
       "           0.8787, -2.1963, -0.8241,  0.7784, -1.9082,  1.0156, -3.4479,  1.6304,\n",
       "          -1.1969,  3.3310, -0.3380, -0.6592, -1.6172, -2.7738, -1.7986, -0.9451,\n",
       "          -0.6694, -0.7183, -0.9530,  1.6708, -0.7379, -1.8906,  1.0486, -1.3636,\n",
       "           3.9686,  3.0637,  2.9376,  2.3806,  1.2524, -2.7492,  0.1008, -0.2853,\n",
       "          -0.6546,  0.8714, -0.9766,  1.3582,  1.4501,  0.9594,  0.0841, -0.7751,\n",
       "          -0.6061,  1.3975, -2.8656,  4.2327,  0.1105, -0.6947, -0.7870, -0.8205,\n",
       "          -0.5338, -2.9315,  1.3081, -1.9169, -0.8103,  1.9594,  0.5082, -4.0409,\n",
       "           1.2451,  1.1189,  0.5581,  0.1465, -1.7278, -1.9919, -2.0280, -0.3843,\n",
       "           1.5618, -2.7507,  0.3612,  0.5853,  0.5411,  0.4019, -0.4064, -1.7108,\n",
       "          -2.9743, -1.3071,  0.6309, -0.6858,  0.9232,  0.4008, -0.3441, -0.0649,\n",
       "           0.6291, -2.2577,  2.7716,  1.6983, -0.2696, -2.5745, -1.9155,  0.1869,\n",
       "           0.0339,  1.5941, -0.6333,  3.7008, -1.9371,  1.1589, -0.6980,  0.2148,\n",
       "          -2.9568, -0.4502,  1.3261, -4.2605,  1.1623, -2.8508,  0.8554,  0.0228,\n",
       "           0.8050,  2.3088, -0.8133, -1.0244,  1.6614,  0.2041,  1.1101,  0.1363]]))"
      ]
     },
     "execution_count": 2,
     "metadata": {},
     "output_type": "execute_result"
    }
   ],
   "source": [
    "traced_outputs"
   ]
  },
  {
   "cell_type": "code",
   "execution_count": null,
   "metadata": {},
   "outputs": [],
   "source": []
  }
 ],
 "metadata": {
  "kernelspec": {
   "display_name": ".venv",
   "language": "python",
   "name": "python3"
  },
  "language_info": {
   "codemirror_mode": {
    "name": "ipython",
    "version": 3
   },
   "file_extension": ".py",
   "mimetype": "text/x-python",
   "name": "python",
   "nbconvert_exporter": "python",
   "pygments_lexer": "ipython3",
   "version": "3.10.11"
  }
 },
 "nbformat": 4,
 "nbformat_minor": 2
}
