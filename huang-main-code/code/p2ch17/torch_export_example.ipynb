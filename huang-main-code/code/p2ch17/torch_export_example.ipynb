{
 "cells": [
  {
   "cell_type": "code",
   "execution_count": 1,
   "metadata": {},
   "outputs": [
    {
     "data": {
      "text/plain": [
       "SimpleModel(\n",
       "  (fc1): Linear(in_features=10, out_features=5, bias=True)\n",
       "  (relu): ReLU()\n",
       "  (fc2): Linear(in_features=5, out_features=2, bias=True)\n",
       ")"
      ]
     },
     "execution_count": 1,
     "metadata": {},
     "output_type": "execute_result"
    }
   ],
   "source": [
    "import torch\n",
    "import torch.nn as nn\n",
    "class SimpleModel(nn.Module):\n",
    "    def __init__(self):\n",
    "        super(SimpleModel, self).__init__()\n",
    "        self.fc1 = nn.Linear(10, 5)\n",
    "        self.relu = nn.ReLU()\n",
    "        self.fc2 = nn.Linear(5, 2)\n",
    "    def forward(self, x):\n",
    "        x = self.fc1(x)\n",
    "        x = self.relu(x)\n",
    "        x = self.fc2(x)\n",
    "        return x\n",
    "model = SimpleModel()\n",
    "model.eval()"
   ]
  },
  {
   "cell_type": "code",
   "execution_count": 2,
   "metadata": {},
   "outputs": [],
   "source": [
    "from torch.export import export\n",
    "dummy_input = torch.randn(2, 10)\n",
    "exported_program = export(model, args=(dummy_input,))"
   ]
  },
  {
   "cell_type": "code",
   "execution_count": 3,
   "metadata": {},
   "outputs": [
    {
     "name": "stdout",
     "output_type": "stream",
     "text": [
      "ExportedProgram:\n",
      "    class GraphModule(torch.nn.Module):\n",
      "        def forward(self, p_fc1_weight: \"f32[5, 10]\", p_fc1_bias: \"f32[5]\", p_fc2_weight: \"f32[2, 5]\", p_fc2_bias: \"f32[2]\", x: \"f32[2, 10]\"):\n",
      "             # File: /var/folders/n1/ygzk0n895x15grwb5rm1ld300000gn/T/ipykernel_38527/3691556958.py:10 in forward, code: x = self.fc1(x)\n",
      "            linear: \"f32[2, 5]\" = torch.ops.aten.linear.default(x, p_fc1_weight, p_fc1_bias);  x = p_fc1_weight = p_fc1_bias = None\n",
      "            \n",
      "             # File: /var/folders/n1/ygzk0n895x15grwb5rm1ld300000gn/T/ipykernel_38527/3691556958.py:11 in forward, code: x = self.relu(x)\n",
      "            relu: \"f32[2, 5]\" = torch.ops.aten.relu.default(linear);  linear = None\n",
      "            \n",
      "             # File: /var/folders/n1/ygzk0n895x15grwb5rm1ld300000gn/T/ipykernel_38527/3691556958.py:12 in forward, code: x = self.fc2(x)\n",
      "            linear_1: \"f32[2, 2]\" = torch.ops.aten.linear.default(relu, p_fc2_weight, p_fc2_bias);  relu = p_fc2_weight = p_fc2_bias = None\n",
      "            return (linear_1,)\n",
      "            \n",
      "Graph signature: ExportGraphSignature(input_specs=[InputSpec(kind=<InputKind.PARAMETER: 2>, arg=TensorArgument(name='p_fc1_weight'), target='fc1.weight', persistent=None), InputSpec(kind=<InputKind.PARAMETER: 2>, arg=TensorArgument(name='p_fc1_bias'), target='fc1.bias', persistent=None), InputSpec(kind=<InputKind.PARAMETER: 2>, arg=TensorArgument(name='p_fc2_weight'), target='fc2.weight', persistent=None), InputSpec(kind=<InputKind.PARAMETER: 2>, arg=TensorArgument(name='p_fc2_bias'), target='fc2.bias', persistent=None), InputSpec(kind=<InputKind.USER_INPUT: 1>, arg=TensorArgument(name='x'), target=None, persistent=None)], output_specs=[OutputSpec(kind=<OutputKind.USER_OUTPUT: 1>, arg=TensorArgument(name='linear_1'), target=None)])\n",
      "Range constraints: {}\n",
      "\n"
     ]
    }
   ],
   "source": [
    "print(exported_program)"
   ]
  },
  {
   "cell_type": "code",
   "execution_count": 4,
   "metadata": {},
   "outputs": [
    {
     "data": {
      "text/plain": [
       "tensor([[0.0831, 0.1144],\n",
       "        [0.1207, 0.4827]], grad_fn=<AddmmBackward0>)"
      ]
     },
     "execution_count": 4,
     "metadata": {},
     "output_type": "execute_result"
    }
   ],
   "source": [
    "exported_program.module()(dummy_input)"
   ]
  },
  {
   "cell_type": "code",
   "execution_count": 5,
   "metadata": {},
   "outputs": [],
   "source": [
    "import os\n",
    "output_path = torch._inductor.aoti_compile_and_package(\n",
    "    exported_program,\n",
    "    package_path=os.path.join(os.getcwd(), \"model.pt2\"),\n",
    ")"
   ]
  },
  {
   "cell_type": "code",
   "execution_count": 6,
   "metadata": {},
   "outputs": [
    {
     "data": {
      "text/plain": [
       "tensor([[0.0831, 0.1144],\n",
       "        [0.1207, 0.4827]])"
      ]
     },
     "execution_count": 6,
     "metadata": {},
     "output_type": "execute_result"
    }
   ],
   "source": [
    "model = torch._inductor.aoti_load_package(os.path.join(os.getcwd(), \"model.pt2\"))\n",
    "model(dummy_input)"
   ]
  }
 ],
 "metadata": {
  "kernelspec": {
   "display_name": ".venv",
   "language": "python",
   "name": "python3"
  },
  "language_info": {
   "codemirror_mode": {
    "name": "ipython",
    "version": 3
   },
   "file_extension": ".py",
   "mimetype": "text/x-python",
   "name": "python",
   "nbconvert_exporter": "python",
   "pygments_lexer": "ipython3",
   "version": "3.12.9"
  }
 },
 "nbformat": 4,
 "nbformat_minor": 2
}
