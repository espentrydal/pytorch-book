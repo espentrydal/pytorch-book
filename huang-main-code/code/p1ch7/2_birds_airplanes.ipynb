{
 "cells": [
  {
   "cell_type": "code",
   "execution_count": 1,
   "metadata": {},
   "outputs": [
    {
     "data": {
      "text/plain": [
       "<torch._C.Generator at 0x24414034bb0>"
      ]
     },
     "execution_count": 1,
     "metadata": {},
     "output_type": "execute_result"
    }
   ],
   "source": [
    "%matplotlib inline\n",
    "from matplotlib import pyplot as plt\n",
    "import numpy as np\n",
    "import torch\n",
    "\n",
    "torch.set_printoptions(edgeitems=2)\n",
    "torch.manual_seed(123)"
   ]
  },
  {
   "cell_type": "code",
   "execution_count": 2,
   "metadata": {},
   "outputs": [],
   "source": [
    "class_names = ['airplane','automobile','bird','cat','deer',\n",
    "               'dog','frog','horse','ship','truck']"
   ]
  },
  {
   "cell_type": "code",
   "execution_count": 3,
   "metadata": {},
   "outputs": [],
   "source": [
    "from torchvision import datasets, transforms\n",
    "data_path = '../data-unversioned/p1ch7/'\n",
    "cifar10 = datasets.CIFAR10(\n",
    "    data_path, train=True, download=False,\n",
    "    transform=transforms.Compose([\n",
    "        transforms.ToTensor(),\n",
    "        transforms.Normalize((0.4914, 0.4822, 0.4465),\n",
    "                             (0.2470, 0.2435, 0.2616))\n",
    "    ]))"
   ]
  },
  {
   "cell_type": "code",
   "execution_count": 4,
   "metadata": {},
   "outputs": [],
   "source": [
    "cifar10_val = datasets.CIFAR10(\n",
    "    data_path, train=False, download=False,\n",
    "    transform=transforms.Compose([\n",
    "        transforms.ToTensor(),\n",
    "        transforms.Normalize((0.4914, 0.4822, 0.4465),\n",
    "                             (0.2470, 0.2435, 0.2616))\n",
    "    ]))"
   ]
  },
  {
   "cell_type": "code",
   "execution_count": 5,
   "metadata": {},
   "outputs": [],
   "source": [
    "label_map = {0: 0, 2: 1}\n",
    "class_names = ['airplane', 'bird']\n",
    "cifar2 = [(img, label_map[label])\n",
    "          for img, label in cifar10 \n",
    "          if label in [0, 2]]\n",
    "cifar2_val = [(img, label_map[label])\n",
    "              for img, label in cifar10_val\n",
    "              if label in [0, 2]]"
   ]
  },
  {
   "cell_type": "code",
   "execution_count": 6,
   "metadata": {},
   "outputs": [],
   "source": [
    "import torch.nn as nn\n",
    "\n",
    "n_out = 2\n",
    "\n",
    "model = nn.Sequential(\n",
    "            nn.Linear(\n",
    "                3072,  # <1>\n",
    "                512,   # <2>\n",
    "            ),\n",
    "            nn.Tanh(),\n",
    "            nn.Linear(\n",
    "                512,   # <2>\n",
    "                n_out, # <3>\n",
    "            )\n",
    "        )"
   ]
  },
  {
   "cell_type": "code",
   "execution_count": 7,
   "metadata": {},
   "outputs": [],
   "source": [
    "def softmax(x):\n",
    "    return torch.exp(x) / torch.exp(x).sum()"
   ]
  },
  {
   "cell_type": "code",
   "execution_count": 8,
   "metadata": {},
   "outputs": [
    {
     "data": {
      "text/plain": [
       "tensor([0.0900, 0.2447, 0.6652])"
      ]
     },
     "execution_count": 8,
     "metadata": {},
     "output_type": "execute_result"
    }
   ],
   "source": [
    "x = torch.tensor([1.0, 2.0, 3.0])\n",
    "\n",
    "softmax(x)"
   ]
  },
  {
   "cell_type": "code",
   "execution_count": 9,
   "metadata": {},
   "outputs": [
    {
     "data": {
      "text/plain": [
       "tensor(1.)"
      ]
     },
     "execution_count": 9,
     "metadata": {},
     "output_type": "execute_result"
    }
   ],
   "source": [
    "softmax(x).sum()"
   ]
  },
  {
   "cell_type": "code",
   "execution_count": 10,
   "metadata": {},
   "outputs": [
    {
     "data": {
      "text/plain": [
       "tensor([[0.0900, 0.2447, 0.6652],\n",
       "        [0.6652, 0.2447, 0.0900]])"
      ]
     },
     "execution_count": 10,
     "metadata": {},
     "output_type": "execute_result"
    }
   ],
   "source": [
    "softmax = nn.Softmax(dim=1)\n",
    "\n",
    "x = torch.tensor([[1.0, 2.0, 3.0],\n",
    "                  [3.0, 2.0, 1.0]])\n",
    "\n",
    "softmax(x)"
   ]
  },
  {
   "cell_type": "code",
   "execution_count": 11,
   "metadata": {},
   "outputs": [],
   "source": [
    "model = nn.Sequential(\n",
    "            nn.Linear(3072, 512),\n",
    "            nn.Tanh(),\n",
    "            nn.Linear(512, 2),\n",
    "            nn.Softmax(dim=1))"
   ]
  },
  {
   "cell_type": "code",
   "execution_count": 12,
   "metadata": {},
   "outputs": [
    {
     "name": "stderr",
     "output_type": "stream",
     "text": [
      "Clipping input data to the valid range for imshow with RGB data ([0..1] for floats or [0..255] for integers). Got range [-1.8624594..2.0298588].\n"
     ]
    },
    {
     "data": {
      "image/png": "[encoded data removed]",
      "text/plain": [
       "<Figure size 640x480 with 1 Axes>"
      ]
     },
     "metadata": {},
     "output_type": "display_data"
    }
   ],
   "source": [
    "img, _ = cifar2[0]\n",
    "\n",
    "plt.imshow(img.permute(1, 2, 0))\n",
    "plt.show()"
   ]
  },
  {
   "cell_type": "code",
   "execution_count": 13,
   "metadata": {},
   "outputs": [
    {
     "data": {
      "text/plain": [
       "torch.Size([1, 3072])"
      ]
     },
     "execution_count": 13,
     "metadata": {},
     "output_type": "execute_result"
    }
   ],
   "source": [
    "img_batch = img.view(-1).unsqueeze(0)\n",
    "img_batch.shape"
   ]
  },
  {
   "cell_type": "code",
   "execution_count": 14,
   "metadata": {},
   "outputs": [
    {
     "data": {
      "text/plain": [
       "tensor([[0.4784, 0.5216]], grad_fn=<SoftmaxBackward0>)"
      ]
     },
     "execution_count": 14,
     "metadata": {},
     "output_type": "execute_result"
    }
   ],
   "source": [
    "out = model(img_batch)\n",
    "out"
   ]
  },
  {
   "cell_type": "code",
   "execution_count": 15,
   "metadata": {},
   "outputs": [
    {
     "data": {
      "text/plain": [
       "tensor([1])"
      ]
     },
     "execution_count": 15,
     "metadata": {},
     "output_type": "execute_result"
    }
   ],
   "source": [
    "_, index = torch.max(out, dim=1)\n",
    "\n",
    "index"
   ]
  },
  {
   "cell_type": "code",
   "execution_count": 16,
   "metadata": {},
   "outputs": [],
   "source": [
    "model = nn.Sequential(\n",
    "            nn.Linear(3072, 512),\n",
    "            nn.Tanh(),\n",
    "            nn.Linear(512, 2),\n",
    "            nn.LogSoftmax(dim=1))"
   ]
  },
  {
   "cell_type": "code",
   "execution_count": 17,
   "metadata": {},
   "outputs": [],
   "source": [
    "loss = nn.NLLLoss()"
   ]
  },
  {
   "cell_type": "code",
   "execution_count": 18,
   "metadata": {},
   "outputs": [
    {
     "data": {
      "text/plain": [
       "tensor(0.5079, grad_fn=<NllLossBackward0>)"
      ]
     },
     "execution_count": 18,
     "metadata": {},
     "output_type": "execute_result"
    }
   ],
   "source": [
    "img, label = cifar2[0]\n",
    "out = model(img.view(-1).unsqueeze(0))\n",
    "loss(out, torch.tensor([label]))"
   ]
  },
  {
   "cell_type": "code",
   "execution_count": 19,
   "metadata": {},
   "outputs": [
    {
     "name": "stdout",
     "output_type": "stream",
     "text": [
      "Epoch: 0, Loss: 3.832332\n",
      "Epoch: 1, Loss: 1.627654\n",
      "Epoch: 2, Loss: 7.493120\n",
      "Epoch: 3, Loss: 8.217752\n",
      "Epoch: 4, Loss: 3.293499\n"
     ]
    }
   ],
   "source": [
    "import torch\n",
    "import torch.nn as nn\n",
    "import torch.optim as optim\n",
    "\n",
    "model = nn.Sequential(\n",
    "            nn.Linear(3072, 512),\n",
    "            nn.Tanh(),\n",
    "            nn.Linear(512, 2),\n",
    "            nn.LogSoftmax(dim=1))\n",
    "\n",
    "learning_rate = 1e-2\n",
    "optimizer = optim.SGD(model.parameters(), lr=learning_rate)\n",
    "loss_fn = nn.NLLLoss()\n",
    "n_epochs = 5\n",
    "\n",
    "for epoch in range(n_epochs):\n",
    "    for img, label in cifar2:\n",
    "        img_tensor = img.view(-1).unsqueeze(0)\n",
    "        label_tensor = torch.tensor([label])\n",
    "        out = model(img_tensor)\n",
    "        loss = loss_fn(out, label_tensor)\n",
    "                \n",
    "        optimizer.zero_grad()\n",
    "        loss.backward()\n",
    "        optimizer.step()\n",
    "\n",
    "    print(\"Epoch: %d, Loss: %f\" % (epoch, float(loss)))"
   ]
  },
  {
   "cell_type": "code",
   "execution_count": 20,
   "metadata": {},
   "outputs": [],
   "source": [
    "train_loader = torch.utils.data.DataLoader(cifar2, batch_size=64,\n",
    "                                           shuffle=True)"
   ]
  },
  {
   "cell_type": "code",
   "execution_count": 21,
   "metadata": {},
   "outputs": [
    {
     "name": "stderr",
     "output_type": "stream",
     "text": [
      "C:\\Users\\howardhuang\\AppData\\Local\\Temp\\ipykernel_31152\\1182167889.py:16: UserWarning: To copy construct from a tensor, it is recommended to use sourceTensor.clone().detach() or sourceTensor.clone().detach().requires_grad_(True), rather than torch.tensor(sourceTensor).\n",
      "  label_tensor = torch.tensor(labels)\n"
     ]
    },
    {
     "name": "stdout",
     "output_type": "stream",
     "text": [
      "Epoch: 0, Loss: 0.318584\n",
      "Epoch: 1, Loss: 0.389656\n",
      "Epoch: 2, Loss: 0.428063\n",
      "Epoch: 3, Loss: 0.435959\n",
      "Epoch: 4, Loss: 0.504194\n",
      "Epoch: 5, Loss: 0.483706\n",
      "Epoch: 6, Loss: 0.308477\n",
      "Epoch: 7, Loss: 0.115593\n",
      "Epoch: 8, Loss: 0.513745\n",
      "Epoch: 9, Loss: 0.386390\n",
      "Epoch: 10, Loss: 0.275170\n",
      "Epoch: 11, Loss: 0.252209\n",
      "Epoch: 12, Loss: 0.213220\n",
      "Epoch: 13, Loss: 0.256754\n",
      "Epoch: 14, Loss: 0.317098\n",
      "Epoch: 15, Loss: 0.631423\n",
      "Epoch: 16, Loss: 0.423116\n",
      "Epoch: 17, Loss: 0.403038\n",
      "Epoch: 18, Loss: 0.307520\n",
      "Epoch: 19, Loss: 0.179391\n",
      "Epoch: 20, Loss: 0.379253\n",
      "Epoch: 21, Loss: 0.290552\n",
      "Epoch: 22, Loss: 0.270082\n",
      "Epoch: 23, Loss: 0.186669\n",
      "Epoch: 24, Loss: 0.284896\n",
      "Epoch: 25, Loss: 0.456809\n",
      "Epoch: 26, Loss: 0.262925\n",
      "Epoch: 27, Loss: 0.257303\n",
      "Epoch: 28, Loss: 0.253179\n",
      "Epoch: 29, Loss: 0.087952\n",
      "Epoch: 30, Loss: 0.119812\n",
      "Epoch: 31, Loss: 0.101360\n",
      "Epoch: 32, Loss: 0.247133\n",
      "Epoch: 33, Loss: 0.091199\n",
      "Epoch: 34, Loss: 0.172338\n",
      "Epoch: 35, Loss: 0.462693\n",
      "Epoch: 36, Loss: 0.273261\n",
      "Epoch: 37, Loss: 0.254027\n",
      "Epoch: 38, Loss: 0.349431\n",
      "Epoch: 39, Loss: 0.300603\n",
      "Epoch: 40, Loss: 0.063583\n",
      "Epoch: 41, Loss: 0.079538\n",
      "Epoch: 42, Loss: 0.135730\n",
      "Epoch: 43, Loss: 0.100508\n",
      "Epoch: 44, Loss: 0.055167\n",
      "Epoch: 45, Loss: 0.177686\n",
      "Epoch: 46, Loss: 0.147216\n",
      "Epoch: 47, Loss: 0.030162\n",
      "Epoch: 48, Loss: 0.113541\n",
      "Epoch: 49, Loss: 0.054586\n",
      "Epoch: 50, Loss: 0.088352\n",
      "Epoch: 51, Loss: 0.037682\n",
      "Epoch: 52, Loss: 0.044880\n",
      "Epoch: 53, Loss: 0.045166\n",
      "Epoch: 54, Loss: 0.122623\n",
      "Epoch: 55, Loss: 0.094353\n",
      "Epoch: 56, Loss: 0.114291\n",
      "Epoch: 57, Loss: 0.021039\n",
      "Epoch: 58, Loss: 0.047415\n",
      "Epoch: 59, Loss: 0.055022\n",
      "Epoch: 60, Loss: 0.057732\n",
      "Epoch: 61, Loss: 0.045904\n",
      "Epoch: 62, Loss: 0.019066\n",
      "Epoch: 63, Loss: 0.017869\n",
      "Epoch: 64, Loss: 0.063006\n",
      "Epoch: 65, Loss: 0.024748\n",
      "Epoch: 66, Loss: 0.028052\n",
      "Epoch: 67, Loss: 0.061628\n",
      "Epoch: 68, Loss: 0.025470\n",
      "Epoch: 69, Loss: 0.021451\n",
      "Epoch: 70, Loss: 0.015868\n",
      "Epoch: 71, Loss: 0.024140\n",
      "Epoch: 72, Loss: 0.139661\n",
      "Epoch: 73, Loss: 0.025053\n",
      "Epoch: 74, Loss: 0.017782\n",
      "Epoch: 75, Loss: 0.012453\n",
      "Epoch: 76, Loss: 0.062699\n",
      "Epoch: 77, Loss: 0.019221\n",
      "Epoch: 78, Loss: 0.026774\n",
      "Epoch: 79, Loss: 0.022550\n",
      "Epoch: 80, Loss: 0.006021\n",
      "Epoch: 81, Loss: 0.012875\n",
      "Epoch: 82, Loss: 0.010667\n",
      "Epoch: 83, Loss: 0.002635\n",
      "Epoch: 84, Loss: 0.017264\n",
      "Epoch: 85, Loss: 0.010242\n",
      "Epoch: 86, Loss: 0.009464\n",
      "Epoch: 87, Loss: 0.034903\n",
      "Epoch: 88, Loss: 0.013490\n",
      "Epoch: 89, Loss: 0.009381\n",
      "Epoch: 90, Loss: 0.010807\n",
      "Epoch: 91, Loss: 0.015975\n",
      "Epoch: 92, Loss: 0.011527\n",
      "Epoch: 93, Loss: 0.019438\n",
      "Epoch: 94, Loss: 0.011856\n",
      "Epoch: 95, Loss: 0.025044\n",
      "Epoch: 96, Loss: 0.015265\n",
      "Epoch: 97, Loss: 0.008149\n",
      "Epoch: 98, Loss: 0.011302\n",
      "Epoch: 99, Loss: 0.013323\n"
     ]
    }
   ],
   "source": [
    "model = nn.Sequential(\n",
    "            nn.Linear(3072, 512),\n",
    "            nn.Tanh(),\n",
    "            nn.Linear(512, 2),\n",
    "            nn.LogSoftmax(dim=1))\n",
    "\n",
    "learning_rate = 1e-2\n",
    "optimizer = optim.SGD(model.parameters(), lr=learning_rate)\n",
    "loss_fn = nn.NLLLoss()\n",
    "n_epochs = 100\n",
    "\n",
    "for epoch in range(n_epochs):\n",
    "    for imgs, labels in train_loader:\n",
    "        batch_size = imgs.shape[0]\n",
    "        img_tensor = imgs.view(batch_size, -1)\n",
    "        label_tensor = torch.tensor(labels)\n",
    "        out = model(img_tensor)\n",
    "        loss = loss_fn(out, label_tensor)\n",
    "                \n",
    "        optimizer.zero_grad()\n",
    "        loss.backward()\n",
    "        optimizer.step()\n",
    "\n",
    "    print(\"Epoch: %d, Loss: %f\" % (epoch, float(loss)))"
   ]
  },
  {
   "cell_type": "code",
   "execution_count": 22,
   "metadata": {},
   "outputs": [
    {
     "name": "stdout",
     "output_type": "stream",
     "text": [
      "Accuracy: 0.811000\n"
     ]
    }
   ],
   "source": [
    "val_loader = torch.utils.data.DataLoader(cifar2_val, batch_size=64,\n",
    "                                         shuffle=False)\n",
    "\n",
    "correct = 0\n",
    "total = 0\n",
    "\n",
    "with torch.no_grad():\n",
    "    for imgs, labels in val_loader:\n",
    "        outputs = model(imgs.view(imgs.shape[0], -1))\n",
    "        _, predicted = torch.max(outputs, dim=1)\n",
    "        total += labels.shape[0]\n",
    "        correct += int((predicted == labels).sum())\n",
    "        \n",
    "print(\"Accuracy: %f\" % (correct / total))"
   ]
  },
  {
   "cell_type": "code",
   "execution_count": 23,
   "metadata": {},
   "outputs": [],
   "source": [
    "model = nn.Sequential(\n",
    "            nn.Linear(3072, 1024),\n",
    "            nn.Tanh(),\n",
    "            nn.Linear(1024, 512),\n",
    "            nn.Tanh(),\n",
    "            nn.Linear(512, 128),\n",
    "            nn.Tanh(),\n",
    "            nn.Linear(128, 2),\n",
    "            nn.LogSoftmax(dim=1))"
   ]
  },
  {
   "cell_type": "code",
   "execution_count": 24,
   "metadata": {},
   "outputs": [],
   "source": [
    "model = nn.Sequential(\n",
    "            nn.Linear(3072, 1024),\n",
    "            nn.Tanh(),\n",
    "            nn.Linear(1024, 512),\n",
    "            nn.Tanh(),\n",
    "            nn.Linear(512, 128),\n",
    "            nn.Tanh(),\n",
    "            nn.Linear(128, 2))\n",
    "\n",
    "loss_fn = nn.CrossEntropyLoss()"
   ]
  },
  {
   "cell_type": "code",
   "execution_count": 25,
   "metadata": {},
   "outputs": [
    {
     "name": "stderr",
     "output_type": "stream",
     "text": [
      "C:\\Users\\howardhuang\\AppData\\Local\\Temp\\ipykernel_31152\\3226406213.py:26: UserWarning: To copy construct from a tensor, it is recommended to use sourceTensor.clone().detach() or sourceTensor.clone().detach().requires_grad_(True), rather than torch.tensor(sourceTensor).\n",
      "  label_tensor = torch.tensor(labels)\n"
     ]
    },
    {
     "name": "stdout",
     "output_type": "stream",
     "text": [
      "Epoch: 0, Loss: 0.571252\n",
      "Epoch: 1, Loss: 0.313666\n",
      "Epoch: 2, Loss: 0.317773\n",
      "Epoch: 3, Loss: 0.339210\n",
      "Epoch: 4, Loss: 0.396160\n",
      "Epoch: 5, Loss: 0.502180\n",
      "Epoch: 6, Loss: 0.272780\n",
      "Epoch: 7, Loss: 0.275592\n",
      "Epoch: 8, Loss: 0.294269\n",
      "Epoch: 9, Loss: 0.277061\n",
      "Epoch: 10, Loss: 0.588710\n",
      "Epoch: 11, Loss: 0.679755\n",
      "Epoch: 12, Loss: 0.695176\n",
      "Epoch: 13, Loss: 0.216517\n",
      "Epoch: 14, Loss: 0.257015\n",
      "Epoch: 15, Loss: 0.367191\n",
      "Epoch: 16, Loss: 0.215245\n",
      "Epoch: 17, Loss: 0.159660\n",
      "Epoch: 18, Loss: 0.293674\n",
      "Epoch: 19, Loss: 0.328192\n",
      "Epoch: 20, Loss: 0.375341\n",
      "Epoch: 21, Loss: 0.381771\n",
      "Epoch: 22, Loss: 0.422056\n",
      "Epoch: 23, Loss: 0.185983\n",
      "Epoch: 24, Loss: 0.388639\n",
      "Epoch: 25, Loss: 0.295786\n",
      "Epoch: 26, Loss: 0.168499\n",
      "Epoch: 27, Loss: 0.273705\n",
      "Epoch: 28, Loss: 0.075720\n",
      "Epoch: 29, Loss: 0.225853\n",
      "Epoch: 30, Loss: 0.097164\n",
      "Epoch: 31, Loss: 0.135111\n",
      "Epoch: 32, Loss: 0.083771\n",
      "Epoch: 33, Loss: 0.213543\n",
      "Epoch: 34, Loss: 0.077632\n",
      "Epoch: 35, Loss: 0.293021\n",
      "Epoch: 36, Loss: 0.464636\n",
      "Epoch: 37, Loss: 0.069508\n",
      "Epoch: 38, Loss: 0.351075\n",
      "Epoch: 39, Loss: 0.042970\n",
      "Epoch: 40, Loss: 0.395650\n",
      "Epoch: 41, Loss: 0.090121\n",
      "Epoch: 42, Loss: 0.138659\n",
      "Epoch: 43, Loss: 0.041306\n",
      "Epoch: 44, Loss: 0.034770\n",
      "Epoch: 45, Loss: 0.157361\n",
      "Epoch: 46, Loss: 0.069251\n",
      "Epoch: 47, Loss: 0.207403\n",
      "Epoch: 48, Loss: 0.018327\n",
      "Epoch: 49, Loss: 0.045020\n",
      "Epoch: 50, Loss: 0.129736\n",
      "Epoch: 51, Loss: 0.097694\n",
      "Epoch: 52, Loss: 0.772088\n",
      "Epoch: 53, Loss: 0.015776\n",
      "Epoch: 54, Loss: 0.060927\n",
      "Epoch: 55, Loss: 0.012670\n",
      "Epoch: 56, Loss: 0.006956\n",
      "Epoch: 57, Loss: 0.013594\n",
      "Epoch: 58, Loss: 0.039618\n",
      "Epoch: 59, Loss: 0.007520\n",
      "Epoch: 60, Loss: 0.017369\n",
      "Epoch: 61, Loss: 0.006267\n",
      "Epoch: 62, Loss: 0.011182\n",
      "Epoch: 63, Loss: 0.007419\n",
      "Epoch: 64, Loss: 0.052596\n",
      "Epoch: 65, Loss: 0.053333\n",
      "Epoch: 66, Loss: 0.349586\n",
      "Epoch: 67, Loss: 0.014449\n",
      "Epoch: 68, Loss: 0.003369\n",
      "Epoch: 69, Loss: 0.006431\n",
      "Epoch: 70, Loss: 0.016606\n",
      "Epoch: 71, Loss: 0.001759\n",
      "Epoch: 72, Loss: 0.006898\n",
      "Epoch: 73, Loss: 0.002455\n",
      "Epoch: 74, Loss: 0.002453\n",
      "Epoch: 75, Loss: 0.006289\n",
      "Epoch: 76, Loss: 0.006173\n",
      "Epoch: 77, Loss: 0.003469\n",
      "Epoch: 78, Loss: 0.046140\n",
      "Epoch: 79, Loss: 0.006046\n",
      "Epoch: 80, Loss: 0.002480\n",
      "Epoch: 81, Loss: 0.002482\n",
      "Epoch: 82, Loss: 0.005167\n",
      "Epoch: 83, Loss: 0.000530\n",
      "Epoch: 84, Loss: 0.002561\n",
      "Epoch: 85, Loss: 0.000618\n",
      "Epoch: 86, Loss: 0.169858\n",
      "Epoch: 87, Loss: 0.008947\n",
      "Epoch: 88, Loss: 0.003302\n",
      "Epoch: 89, Loss: 0.003499\n",
      "Epoch: 90, Loss: 0.000741\n",
      "Epoch: 91, Loss: 0.001199\n",
      "Epoch: 92, Loss: 0.002039\n",
      "Epoch: 93, Loss: 0.006425\n",
      "Epoch: 94, Loss: 0.001258\n",
      "Epoch: 95, Loss: 0.000673\n",
      "Epoch: 96, Loss: 0.002405\n",
      "Epoch: 97, Loss: 0.002683\n",
      "Epoch: 98, Loss: 0.001703\n",
      "Epoch: 99, Loss: 0.001460\n"
     ]
    }
   ],
   "source": [
    "import torch\n",
    "import torch.nn as nn\n",
    "import torch.optim as optim\n",
    "\n",
    "train_loader = torch.utils.data.DataLoader(cifar2, batch_size=64,\n",
    "                                           shuffle=True)\n",
    "\n",
    "model = nn.Sequential(\n",
    "            nn.Linear(3072, 1024),\n",
    "            nn.Tanh(),\n",
    "            nn.Linear(1024, 512),\n",
    "            nn.Tanh(),\n",
    "            nn.Linear(512, 128),\n",
    "            nn.Tanh(),\n",
    "            nn.Linear(128, 2))\n",
    "\n",
    "learning_rate = 1e-2\n",
    "optimizer = optim.SGD(model.parameters(), lr=learning_rate)\n",
    "loss_fn = nn.CrossEntropyLoss()\n",
    "n_epochs = 100\n",
    "\n",
    "for epoch in range(n_epochs):\n",
    "    for imgs, labels in train_loader:\n",
    "        batch_size = imgs.shape[0]\n",
    "        img_tensor = imgs.view(batch_size, -1)\n",
    "        label_tensor = torch.tensor(labels)\n",
    "        out = model(img_tensor)\n",
    "        loss = loss_fn(out, label_tensor)\n",
    "                \n",
    "        optimizer.zero_grad()\n",
    "        loss.backward()\n",
    "        optimizer.step()\n",
    "    print(\"Epoch: %d, Loss: %f\" % (epoch, float(loss)))"
   ]
  },
  {
   "cell_type": "code",
   "execution_count": 26,
   "metadata": {},
   "outputs": [
    {
     "name": "stdout",
     "output_type": "stream",
     "text": [
      "Accuracy: 1.000000\n"
     ]
    }
   ],
   "source": [
    "train_loader = torch.utils.data.DataLoader(cifar2, batch_size=64,\n",
    "                                           shuffle=False)\n",
    "\n",
    "correct = 0\n",
    "total = 0\n",
    "\n",
    "with torch.no_grad():\n",
    "    for imgs, labels in train_loader:\n",
    "        outputs = model(imgs.view(imgs.shape[0], -1))\n",
    "        _, predicted = torch.max(outputs, dim=1)\n",
    "        total += labels.shape[0]\n",
    "        correct += int((predicted == labels).sum())\n",
    "        \n",
    "print(\"Accuracy: %f\" % (correct / total))"
   ]
  },
  {
   "cell_type": "code",
   "execution_count": 27,
   "metadata": {},
   "outputs": [
    {
     "name": "stdout",
     "output_type": "stream",
     "text": [
      "Accuracy: 0.813000\n"
     ]
    }
   ],
   "source": [
    "val_loader = torch.utils.data.DataLoader(cifar2_val, batch_size=64,\n",
    "                                         shuffle=False)\n",
    "\n",
    "correct = 0\n",
    "total = 0\n",
    "\n",
    "with torch.no_grad():\n",
    "    for imgs, labels in val_loader:\n",
    "        outputs = model(imgs.view(imgs.shape[0], -1))\n",
    "        _, predicted = torch.max(outputs, dim=1)\n",
    "        total += labels.shape[0]\n",
    "        correct += int((predicted == labels).sum())\n",
    "        \n",
    "print(\"Accuracy: %f\" % (correct / total))"
   ]
  },
  {
   "cell_type": "code",
   "execution_count": 28,
   "metadata": {},
   "outputs": [
    {
     "data": {
      "text/plain": [
       "(3737474, [3145728, 1024, 524288, 512, 65536, 128, 256, 2])"
      ]
     },
     "execution_count": 28,
     "metadata": {},
     "output_type": "execute_result"
    }
   ],
   "source": [
    "numel_list = [p.numel()\n",
    "              for p in model.parameters()\n",
    "              if p.requires_grad == True]\n",
    "sum(numel_list), numel_list"
   ]
  },
  {
   "cell_type": "code",
   "execution_count": 29,
   "metadata": {},
   "outputs": [
    {
     "data": {
      "text/plain": [
       "(1574402, [1572864, 512, 1024, 2])"
      ]
     },
     "execution_count": 29,
     "metadata": {},
     "output_type": "execute_result"
    }
   ],
   "source": [
    "first_model = nn.Sequential(\n",
    "                nn.Linear(3072, 512),\n",
    "                nn.Tanh(),\n",
    "                nn.Linear(512, 2),\n",
    "                nn.LogSoftmax(dim=1))\n",
    "\n",
    "numel_list = [p.numel() for p in first_model.parameters()]\n",
    "sum(numel_list), numel_list"
   ]
  },
  {
   "cell_type": "code",
   "execution_count": 30,
   "metadata": {},
   "outputs": [
    {
     "data": {
      "text/plain": [
       "(torch.Size([1024, 3072]), torch.Size([1024]))"
      ]
     },
     "execution_count": 30,
     "metadata": {},
     "output_type": "execute_result"
    }
   ],
   "source": [
    "linear = nn.Linear(3072, 1024)\n",
    "\n",
    "linear.weight.shape, linear.bias.shape"
   ]
  }
 ],
 "metadata": {
  "kernelspec": {
   "display_name": ".venv",
   "language": "python",
   "name": "python3"
  },
  "language_info": {
   "codemirror_mode": {
    "name": "ipython",
    "version": 3
   },
   "file_extension": ".py",
   "mimetype": "text/x-python",
   "name": "python",
   "nbconvert_exporter": "python",
   "pygments_lexer": "ipython3",
   "version": "3.12.9"
  }
 },
 "nbformat": 4,
 "nbformat_minor": 2
}
