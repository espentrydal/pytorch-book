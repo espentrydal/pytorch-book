{
 "cells": [
  {
   "cell_type": "code",
   "execution_count": 2,
   "metadata": {},
   "outputs": [
    {
     "name": "stdout",
     "output_type": "stream",
     "text": [
      "\n",
      "Sequential Results:\n",
      "45\n",
      "Sequential Time: 5.03 seconds\n"
     ]
    }
   ],
   "source": [
    "import concurrent.futures\n",
    "import time\n",
    "\n",
    "def some_work(x):\n",
    "    time.sleep(0.5)\n",
    "    return x\n",
    "\n",
    "# Sequential execution\n",
    "start_time = time.time()\n",
    "results_sequential = sum([some_work(i) for i in range(10)])\n",
    "sequential_time = time.time() - start_time\n",
    "\n",
    "print(\"\\nSequential Results:\")\n",
    "print(results_sequential)\n",
    "print(f\"Sequential Time: {sequential_time:.2f} seconds\")"
   ]
  },
  {
   "cell_type": "code",
   "execution_count": 3,
   "metadata": {},
   "outputs": [
    {
     "name": "stdout",
     "output_type": "stream",
     "text": [
      "\n",
      "Multithreaded Results:\n",
      "45\n",
      "Multithreaded Time: 0.51 seconds\n"
     ]
    }
   ],
   "source": [
    "# Multithreaded execution\n",
    "start_time = time.time()\n",
    "with concurrent.futures.ThreadPoolExecutor() as executor:\n",
    "    results_multithreaded = sum(list(executor.map(some_work, range(10))))\n",
    "multithreaded_time = time.time() - start_time\n",
    "\n",
    "print(\"\\nMultithreaded Results:\")\n",
    "print(results_multithreaded)\n",
    "print(f\"Multithreaded Time: {multithreaded_time:.2f} seconds\")"
   ]
  },
  {
   "cell_type": "code",
   "execution_count": null,
   "metadata": {},
   "outputs": [],
   "source": []
  }
 ],
 "metadata": {
  "kernelspec": {
   "display_name": ".venv",
   "language": "python",
   "name": "python3"
  },
  "language_info": {
   "codemirror_mode": {
    "name": "ipython",
    "version": 3
   },
   "file_extension": ".py",
   "mimetype": "text/x-python",
   "name": "python",
   "nbconvert_exporter": "python",
   "pygments_lexer": "ipython3",
   "version": "3.12.5"
  }
 },
 "nbformat": 4,
 "nbformat_minor": 2
}
